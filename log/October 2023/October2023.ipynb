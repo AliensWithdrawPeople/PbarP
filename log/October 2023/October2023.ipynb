{
 "cells": [
  {
   "cell_type": "markdown",
   "metadata": {},
   "source": [
    "## October ##"
   ]
  },
  {
   "cell_type": "markdown",
   "metadata": {},
   "source": [
    "MC runs 1xx with |Ge|^2 = 1 and |Gm|^2 = 0.\n",
    "MC runs 2xx with |Ge|^2 = 0 and |Gm|^2 = 1."
   ]
  }
 ],
 "metadata": {
  "language_info": {
   "name": "python"
  }
 },
 "nbformat": 4,
 "nbformat_minor": 2
}
