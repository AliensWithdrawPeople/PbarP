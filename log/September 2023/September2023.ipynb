{
 "cells": [
  {
   "cell_type": "markdown",
   "metadata": {},
   "source": [
    "# **$P\\bar{P}$ log: September 2023**"
   ]
  },
  {
   "cell_type": "code",
   "execution_count": null,
   "metadata": {},
   "outputs": [],
   "source": [
    "# Visible xsection: season2019\n",
    "energy = [936, 945, 950, 955, 962.5, 975, 978, 987.5]\n",
    "xsection = [0.0052, 0.0035, 0.0025, 0.2614, 0.4046, 0.4806, 0.4837, 0.5096]\n",
    "xsection_error = [0.0017, 0.0012, 0.0011, 0.0144, 0.0139, 0.011, 0.0327, 0.015]"
   ]
  },
  {
   "cell_type": "code",
   "execution_count": null,
   "metadata": {},
   "outputs": [],
   "source": [
    "# Visible xsection: season2020\n",
    "energy = [935, 945, 950, 960, 970]\n",
    "xsection = [0.0022, 0.0024, 0.0035, 0.3924, 0.4637]\n",
    "xsection_error = [0.0005, 0.0005, 0.0006, 0.0063, 0.0073]"
   ]
  },
  {
   "cell_type": "code",
   "execution_count": null,
   "metadata": {},
   "outputs": [],
   "source": [
    "# Visible xsection: season2021\n",
    "energy = [970, 980, 990, 1003.5]\n",
    "xsection = [0.4524, 0.493, 0.5064, 0.5299]\n",
    "xsection_error = [0.0091, 0.0067, 0.0071, 0.005]"
   ]
  },
  {
   "cell_type": "code",
   "execution_count": null,
   "metadata": {},
   "outputs": [],
   "source": [
    "# Visible xsection: season2022\n",
    "energy = [920, 930, 935, 937.5, 938.3, 938.9, 939.6, 940.2, 941, 942, 943.5, 945, 947.5, 948.75, 950, 951, 952, 953, 954]\n",
    "xsection = [0.0041, 0.003, 0.0038, 0.0032, 0.0032, 0.0028, 0.0029, 0.0032, 0.0033, 0.0034, 0.0032, 0.0037, 0.0025, 0, 0.0034, 0.0098, 0.0438, 0.0785, 0.0955]\n",
    "xsection_error = [0.0006, 0.0005, 0.0005, 0.0006, 0.0005, 0.0005, 0.0005, 0.0005, 0.0006, 0.0006, 0.0006, 0.0006, 0.0005, 0, 0.0008, 0.0013, 0.0028, 0.0036, 0.0042]"
   ]
  }
 ],
 "metadata": {
  "language_info": {
   "name": "python"
  },
  "orig_nbformat": 4
 },
 "nbformat": 4,
 "nbformat_minor": 2
}
