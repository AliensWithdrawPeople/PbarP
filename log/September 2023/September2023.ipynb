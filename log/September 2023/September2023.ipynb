{
 "cells": [
  {
   "cell_type": "markdown",
   "metadata": {},
   "source": [
    "# **$P\\bar{P}$ log: September 2023**"
   ]
  },
  {
   "cell_type": "markdown",
   "metadata": {},
   "source": [
    "## September 19"
   ]
  },
  {
   "cell_type": "code",
   "execution_count": null,
   "metadata": {},
   "outputs": [],
   "source": [
    "# Visible xsection: season2019\n",
    "nominal_energy = [936, 945, 950, 955, 962.5, 975, 978, 987.5] # MeV\n",
    "energy = [936.305, 944.817, 950.15, 956.084, 962.687, 972.917, 977.158, 987.81] # MeV\n",
    "xsection = [0.0052, 0.0035, 0.0025, 0.2614, 0.4046, 0.4806, 0.4837, 0.5096] # nb\n",
    "xsection_error = [0.0017, 0.0012, 0.0011, 0.0144, 0.0139, 0.011, 0.0327, 0.015] # nb"
   ]
  },
  {
   "cell_type": "code",
   "execution_count": null,
   "metadata": {},
   "outputs": [],
   "source": [
    "# Visible xsection: season2020\n",
    "nominal_energy = [935, 945, 950, 960, 970] # MeV\n",
    "energy = [934.705, 945.461, 950.29, 960.252, 970.583] # MeV\n",
    "xsection = [0.0022, 0.0024, 0.0035, 0.3924, 0.4637] # nb\n",
    "xsection_error = [0.0005, 0.0005, 0.0006, 0.0063, 0.0073] # nb"
   ]
  },
  {
   "cell_type": "code",
   "execution_count": null,
   "metadata": {},
   "outputs": [],
   "source": [
    "# Visible xsection: season2021\n",
    "nominal_energy = [1003.5, 970, 980, 990] # MeV\n",
    "energy = [1003.5, 968.805, 980.248, 990.293] # MeV\n",
    "xsection = [0.5299, 0.4524, 0.493, 0.5064] # nb\n",
    "xsection_error = [0.005, 0.0091, 0.0067, 0.0071] # nb"
   ]
  },
  {
   "cell_type": "code",
   "execution_count": null,
   "metadata": {},
   "outputs": [],
   "source": [
    "# Visible xsection: season2022\n",
    "nominal_energy = [920, 930, 935, 937.5, 938.3, 938.9, 939.6, 940.2, 941, 942, 943.5, 945, 947.5, 948.75, 950, 951, 952, 953, 954] # MeV\n",
    "energy = [919.966, 929.985, 934.979, 937.505, 938.323, 938.887, 939.594, 940.207, 940.96, 941.995, 943.495, 944.993, 947.5, 948.727, 949.995, 950.945, 952.012, 953.003, 953.997] # MeV\n",
    "xsection = [0.0041, 0.003, 0.0038, 0.0032, 0.0032, 0.0028, 0.0029, 0.0032, 0.0033, 0.0034, 0.0032, 0.0037, 0.0025, 0, 0.0034, 0.0098, 0.0438, 0.0785, 0.0955] # nb\n",
    "xsection_error = [0.0006, 0.0005, 0.0005, 0.0006, 0.0005, 0.0005, 0.0005, 0.0005, 0.0006, 0.0006, 0.0006, 0.0006, 0.0005, 0, 0.0008, 0.0013, 0.0028, 0.0036, 0.0042] # nb"
   ]
  },
  {
   "cell_type": "markdown",
   "metadata": {},
   "source": [
    "Shitty energy points:\n",
    "season2022: 935.1 (messy mean energy), 948.75 (no lumi data) \n",
    "season2019: 978 (small lumi)"
   ]
  },
  {
   "cell_type": "markdown",
   "metadata": {},
   "source": [
    "<div>\n",
    "    <img src='pics/vis_xsec_coll.png' width=1000px>\n",
    "</div>"
   ]
  }
 ],
 "metadata": {
  "language_info": {
   "name": "python"
  },
  "orig_nbformat": 4
 },
 "nbformat": 4,
 "nbformat_minor": 2
}
