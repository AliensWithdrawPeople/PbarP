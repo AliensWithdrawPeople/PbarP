{
 "cells": [
  {
   "cell_type": "markdown",
   "metadata": {},
   "source": [
    "## October ##"
   ]
  },
  {
   "cell_type": "markdown",
   "metadata": {},
   "source": [
    "MC runs 1xx with |Ge|^2 = 1 and |Gm|^2 = 0.\n",
    "MC runs 2xx with |Ge|^2 = 0 and |Gm|^2 = 1."
   ]
  },
  {
   "cell_type": "markdown",
   "metadata": {},
   "source": [
    "**Oct 31**"
   ]
  },
  {
   "cell_type": "markdown",
   "metadata": {},
   "source": [
    "FIRSTRUN = 0\n",
    "\n",
    "# Gm = 1; Ge = 0\n",
    "# season = HIGH2017\n",
    "nevents=10000\n",
    "elabel=990_43038\n",
    "energy=1.982456\n",
    "Queue 1\n",
    "\n",
    "# season = HIGH2017\n",
    "nevents=10000\n",
    "elabel=1003.5_43198\n",
    "energy=2.00662\n",
    "Queue 1\n",
    "\n",
    "# season = HIGH2021\n",
    "nevents=10000\n",
    "elabel=990_101920\n",
    "energy=1.980586\n",
    "Queue 1\n",
    "\n",
    "# season = HIGH2021\n",
    "nevents=10000\n",
    "elabel=1003.5_103608\n",
    "energy=2.007\n",
    "Queue 1\n",
    "\n",
    "# season = HIGH2021\n",
    "nevents=10000\n",
    "elabel=Season_HIGH2021\n",
    "energy=2.007\n",
    "Queue 1\n"
   ]
  },
  {
   "cell_type": "markdown",
   "metadata": {},
   "source": [
    "FIRSTRUN = 10\n",
    "\n",
    "# Gm = 0; Ge = 1\n",
    "# season = HIGH2017\n",
    "nevents=10000\n",
    "elabel=990_43038\n",
    "energy=1.982456\n",
    "Queue 1\n",
    "\n",
    "# season = HIGH2017\n",
    "nevents=10000\n",
    "elabel=1003.5_43198\n",
    "energy=2.00662\n",
    "Queue 1\n",
    "\n",
    "# season = HIGH2021\n",
    "nevents=10000\n",
    "elabel=990_101920\n",
    "energy=1.980586\n",
    "Queue 1\n",
    "\n",
    "# season = HIGH2021\n",
    "nevents=10000\n",
    "elabel=1003.5_103608\n",
    "energy=2.007\n",
    "Queue 1\n",
    "\n",
    "# season = HIGH2021\n",
    "nevents=10000\n",
    "elabel=Season_HIGH2021\n",
    "energy=2.007\n",
    "Queue 1"
   ]
  },
  {
   "cell_type": "markdown",
   "metadata": {},
   "source": [
    "**Problems in MC**"
   ]
  },
  {
   "cell_type": "markdown",
   "metadata": {},
   "source": [
    "В моделировании неправильно моделируется dE/dx треков, которые летят поперёк проволочкам. Это приводит к заниженному dE/dx для треков с $\\theta$ близким к $\\pi/2$.\n",
    "\n",
    "\n",
    "<img src=\"pics/dEdx_vs_theta_MC.png\" width=\"900\" />"
   ]
  }
 ],
 "metadata": {
  "language_info": {
   "name": "python"
  }
 },
 "nbformat": 4,
 "nbformat_minor": 2
}
